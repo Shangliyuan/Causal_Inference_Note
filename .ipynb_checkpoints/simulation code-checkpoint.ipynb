{
 "cells": [
  {
   "cell_type": "code",
   "execution_count": null,
   "id": "b2135af6-e548-40a6-b2d1-b933ba1f428e",
   "metadata": {},
   "outputs": [],
   "source": []
  },
  {
   "cell_type": "code",
   "execution_count": 1,
   "id": "f9d44b90-1f9c-43b3-a1f8-5f204f6dc790",
   "metadata": {},
   "outputs": [
    {
     "name": "stdout",
     "output_type": "stream",
     "text": [
      "P(Y=1|X=1) = 0.8760454642933734\n",
      "P(Y=1|X=0) = 0.07476110174255199\n"
     ]
    }
   ],
   "source": [
    "import numpy as np\n",
    "\n",
    "# 设置随机种子以保证结果可重复\n",
    "np.random.seed(0)\n",
    "\n",
    "# 生成样本大小\n",
    "n_samples = 10000\n",
    "\n",
    "# 生成 U_Z, U_X, U_Y\n",
    "U_Z = np.random.normal(0, 50, n_samples)\n",
    "U_X = np.random.normal(2, 10, n_samples)\n",
    "U_Y = np.random.normal(15, 10, n_samples)\n",
    "\n",
    "# 计算 Z\n",
    "Z = 30 + np.round(U_Z).astype(int)\n",
    "\n",
    "# 计算 X\n",
    "X = np.where(Z + U_X >= 35, 1, 0)\n",
    "\n",
    "# 计算 Y\n",
    "Y = np.where(Z + U_Y >= 50, 1, 0)\n",
    "\n",
    "# 估计 P(Y=1|X=1) 和 P(Y=1|X=0)\n",
    "P_Y1_X1 = np.mean(Y[X == 1])\n",
    "P_Y1_X0 = np.mean(Y[X == 0])\n",
    "\n",
    "print(f\"P(Y=1|X=1) = {P_Y1_X1}\")\n",
    "print(f\"P(Y=1|X=0) = {P_Y1_X0}\")\n"
   ]
  },
  {
   "cell_type": "code",
   "execution_count": 30,
   "id": "af88c88b-bb1f-4ce0-baed-9e70d686ad6c",
   "metadata": {},
   "outputs": [
    {
     "name": "stdout",
     "output_type": "stream",
     "text": [
      "Pm(Y=1|X=1) = 0.4614\n"
     ]
    }
   ],
   "source": [
    "# 生成样本大小\n",
    "n_samples = 10000\n",
    "\n",
    "# 生成 U_Z, U_X, U_Y\n",
    "U_Z = np.random.normal(0, 50, n_samples)\n",
    "U_X = np.random.normal(2, 10, n_samples)\n",
    "U_Y = np.random.normal(15, 10, n_samples)\n",
    "\n",
    "# 计算 Z\n",
    "Z = 30 + np.round(U_Z).astype(int)\n",
    "\n",
    "# 计算 X\n",
    "X = 1\n",
    "\n",
    "# 计算 Y\n",
    "Y = np.where(Z + U_Y >= 50, 1, 0)\n",
    "\n",
    "# 估计 P(Y=1|X=1) 和 P(Y=1|X=0)\n",
    "Pm_Y1_X1 = np.mean(Y[X == 1])\n",
    "\n",
    "print(f\"Pm(Y=1|X=1) = {Pm_Y1_X1}\")"
   ]
  },
  {
   "cell_type": "code",
   "execution_count": 31,
   "id": "3013dffd-6d03-4d8e-bae4-fd42aacc05cd",
   "metadata": {},
   "outputs": [
    {
     "name": "stdout",
     "output_type": "stream",
     "text": [
      "Pm(Y=1|X=0) = 0.4614\n"
     ]
    }
   ],
   "source": [
    "# 生成样本大小\n",
    "n_samples = 10000\n",
    "\n",
    "# 生成 U_Z, U_X, U_Y\n",
    "U_Z = np.random.normal(0, 50, n_samples)\n",
    "U_X = np.random.normal(2, 10, n_samples)\n",
    "U_Y = np.random.normal(15, 10, n_samples)\n",
    "\n",
    "# 计算 Z\n",
    "Z = 30 + np.round(U_Z).astype(int)\n",
    "\n",
    "# 计算 X\n",
    "X = 1\n",
    "\n",
    "# 计算 Y\n",
    "Y = np.where(Z + U_Y >= 50, 1, 0)\n",
    "\n",
    "# 估计 P(Y=1|X=1) 和 P(Y=1|X=0)\n",
    "Pm_Y1_X0 = np.mean(Y[X == 1])\n",
    "\n",
    "print(f\"Pm(Y=1|X=0) = {Pm_Y1_X1}\")"
   ]
  },
  {
   "cell_type": "code",
   "execution_count": 33,
   "id": "a746496a-4d47-4277-82de-940abe40ec2e",
   "metadata": {},
   "outputs": [
    {
     "name": "stdout",
     "output_type": "stream",
     "text": [
      "conditional difference = 0.8012843625508214.\n",
      "average causal effect  = 0.005799999999999972.\n"
     ]
    }
   ],
   "source": [
    "print(f\"conditional difference = {P_Y1_X1 - P_Y1_X0}.\")\n",
    "print(f\"average causal effect  = {Pm_Y1_X1 - Pm_Y1_X0}.\")"
   ]
  },
  {
   "cell_type": "code",
   "execution_count": null,
   "id": "6a81f303-8073-4d6f-82f0-337ebcfaeb53",
   "metadata": {},
   "outputs": [],
   "source": []
  },
  {
   "cell_type": "code",
   "execution_count": null,
   "id": "5f341bb8-b2c9-40f4-8097-eb4b65880b39",
   "metadata": {},
   "outputs": [],
   "source": []
  },
  {
   "cell_type": "code",
   "execution_count": 34,
   "id": "e7885018-4150-4270-94cd-03bcc603c59a",
   "metadata": {},
   "outputs": [
    {
     "name": "stdout",
     "output_type": "stream",
     "text": [
      "P(Y=1|X=1) = 0.2781999701981821\n",
      "P(Y=1|X=0) = 0.1207053815749468\n"
     ]
    }
   ],
   "source": [
    "import numpy as np\n",
    "\n",
    "# 设置随机种子以保证结果可重复\n",
    "np.random.seed(0)\n",
    "\n",
    "# 生成样本大小\n",
    "n_samples = 10000\n",
    "\n",
    "# 生成 U_Z, U_X, U_Y\n",
    "U_Z = np.random.normal(0, 1, n_samples)\n",
    "U_X = np.random.normal(0, 1, n_samples)\n",
    "U_Y = np.random.normal(0, 1, n_samples)\n",
    "\n",
    "# 计算 Z\n",
    "Z = np.where(U_Z > 0, 1, 0)\n",
    "\n",
    "# 计算 X\n",
    "X = np.where(Z + U_X < 1, 1, 0)\n",
    "\n",
    "# 计算 Y\n",
    "Y = np.where(X + Z + U_Y >= 2, 1, 0)\n",
    "\n",
    "# 估计 P(Y=1|X=1) 和 P(Y=1|X=0)\n",
    "P_Y1_X1 = np.mean(Y[X == 1])\n",
    "P_Y1_X0 = np.mean(Y[X == 0])\n",
    "\n",
    "print(f\"P(Y=1|X=1) = {P_Y1_X1}\")\n",
    "print(f\"P(Y=1|X=0) = {P_Y1_X0}\")"
   ]
  },
  {
   "cell_type": "code",
   "execution_count": 35,
   "id": "8e619f9f-92ee-46a5-80da-1d2076b2e5a8",
   "metadata": {},
   "outputs": [
    {
     "name": "stdout",
     "output_type": "stream",
     "text": [
      "Pm(Y=1|X=1) = 0.3349\n"
     ]
    }
   ],
   "source": [
    "\n",
    "# 生成样本大小\n",
    "n_samples = 10000\n",
    "\n",
    "# 生成 U_Z, U_X, U_Y\n",
    "U_Z = np.random.normal(0, 1, n_samples)\n",
    "U_X = np.random.normal(0, 1, n_samples)\n",
    "U_Y = np.random.normal(0, 1, n_samples)\n",
    "\n",
    "# 计算 Z\n",
    "Z = np.where(U_Z > 0, 1, 0)\n",
    "\n",
    "# 计算 X\n",
    "X = 1\n",
    "\n",
    "# 计算 Y\n",
    "Y = np.where(X + Z + U_Y >= 2, 1, 0)\n",
    "\n",
    "Pm_Y1_X1 = np.mean(Y[X == 1])\n",
    "\n",
    "print(f\"Pm(Y=1|X=1) = {Pm_Y1_X1}\")\n"
   ]
  },
  {
   "cell_type": "code",
   "execution_count": 37,
   "id": "d17e25c0-6c99-4917-8dbe-4eec9bd29b2f",
   "metadata": {},
   "outputs": [
    {
     "name": "stdout",
     "output_type": "stream",
     "text": [
      "Pm(Y=1|X=0) = 0.0897\n"
     ]
    }
   ],
   "source": [
    "\n",
    "# 生成样本大小\n",
    "n_samples = 10000\n",
    "\n",
    "# 生成 U_Z, U_X, U_Y\n",
    "U_Z = np.random.normal(0, 1, n_samples)\n",
    "U_X = np.random.normal(0, 1, n_samples)\n",
    "U_Y = np.random.normal(0, 1, n_samples)\n",
    "\n",
    "# 计算 Z\n",
    "Z = np.where(U_Z > 0, 1, 0)\n",
    "\n",
    "# 计算 X\n",
    "X = 0\n",
    "\n",
    "# 计算 Y\n",
    "Y = np.where(X + Z + U_Y >= 2, 1, 0)\n",
    "\n",
    "Pm_Y1_X0 = np.mean(Y[X == 0])\n",
    "\n",
    "print(f\"Pm(Y=1|X=0) = {Pm_Y1_X0}\")\n"
   ]
  },
  {
   "cell_type": "code",
   "execution_count": 38,
   "id": "b9607ad2-93a7-4d7f-b465-8ed5cd7c29eb",
   "metadata": {},
   "outputs": [
    {
     "name": "stdout",
     "output_type": "stream",
     "text": [
      "conditional difference = 0.1574945886232353.\n",
      "average causal effect  = 0.24519999999999997.\n"
     ]
    }
   ],
   "source": [
    "print(f\"conditional difference = {P_Y1_X1 - P_Y1_X0}.\")\n",
    "print(f\"average causal effect  = {Pm_Y1_X1 - Pm_Y1_X0}.\")"
   ]
  },
  {
   "cell_type": "code",
   "execution_count": null,
   "id": "2ca19a86-ca4b-40de-bce5-5b937b51a658",
   "metadata": {},
   "outputs": [],
   "source": []
  },
  {
   "cell_type": "code",
   "execution_count": null,
   "id": "9554da5c-2823-4bbe-b121-7996eacd615b",
   "metadata": {},
   "outputs": [],
   "source": []
  }
 ],
 "metadata": {
  "kernelspec": {
   "display_name": "Python 3 (ipykernel)",
   "language": "python",
   "name": "python3"
  },
  "language_info": {
   "codemirror_mode": {
    "name": "ipython",
    "version": 3
   },
   "file_extension": ".py",
   "mimetype": "text/x-python",
   "name": "python",
   "nbconvert_exporter": "python",
   "pygments_lexer": "ipython3",
   "version": "3.8.10"
  }
 },
 "nbformat": 4,
 "nbformat_minor": 5
}
